{
  "nbformat": 4,
  "nbformat_minor": 0,
  "metadata": {
    "colab": {
      "provenance": [],
      "authorship_tag": "ABX9TyOm3CuF5hHu+5PLIgqogepx",
      "include_colab_link": true
    },
    "kernelspec": {
      "name": "python3",
      "display_name": "Python 3"
    },
    "language_info": {
      "name": "python"
    }
  },
  "cells": [
    {
      "cell_type": "markdown",
      "metadata": {
        "id": "view-in-github",
        "colab_type": "text"
      },
      "source": [
        "<a href=\"https://colab.research.google.com/github/julianazx/caixa-auto-atendimento/blob/main/SistemaBanc%C3%A1rio(ATM).ipynb\" target=\"_parent\"><img src=\"https://colab.research.google.com/assets/colab-badge.svg\" alt=\"Open In Colab\"/></a>"
      ]
    },
    {
      "cell_type": "markdown",
      "source": [
        "#**Código do Projeto de uma Modelagem de um caixa de auto-atendimento (ATM)**"
      ],
      "metadata": {
        "id": "kxvgZE7IIugw"
      }
    },
    {
      "cell_type": "markdown",
      "source": [
        "###**Passo a Passo de como utilizar o código**\n",
        "\n",
        "\n",
        "1. Baixe o arquivo “clientes.csv” disponibilizado no drive de reposição do trabalho\n",
        "2. Conecte o google colab ao drive com o comando:\n",
        "```\n",
        "from google.colab import drive\n",
        "drive.mount('/content/drive')\n",
        "```\n",
        "3. Dentro do código na parte esquerda da tela no ícone de arquivos, copie o caminho do arquivo “clientes.csv”\n",
        "\n",
        "4.\tE depois coloque o caminho na classe CaixaEletronico\n",
        "![def_main.png](data:image/png;base64,iVBORw0KGgoAAAANSUhEUgAAAm4AAABMCAYAAADUUzsHAAAAAXNSR0IArs4c6QAAAARnQU1BAACxjwv8YQUAAAAJcEhZcwAADsMAAA7DAcdvqGQAABeSSURBVHhe7Z1Nq2XF1ccd90hw4EAwzwMKPokzaQkRMohOGgIJPchE6dxOIAOHPZDopKEvSjCZZKzNJUigE0zCNUIylw52IOKgiQP9En6C/dSql13rrar2ebv3nHv+gx99z66qVWutql3r3/vcc88TN2/enJ599lkAAAAAALDnQLgBAAAAABwIKwu3F9/573TjVz9329r8fLr+u/9OP/sw886p02c3vPfPP0/ffHN/+uMv/fYxz0wPP39i+vpdef3Bp/YaAAAAAMAuuRDh9vyv/j397Hd/mJ532nbNpsKNBNr06dO27fZT07dfXZse3lbXAQAAAAB2xIUIt/We0u0B7z45TV89OT3w2ghq//yp6dRrAwAAAADYMguEm3qbMyBF2On0w2ZbHb+qcLv90f3py4/env7xDT0x++303m9+G/4NP//zF7VfuZb5x2+YjV++PX05t4Xx5XrkR9Mf/0NP4X6R7Xt9/LdIJb0+7wXb3wR/33PaAAAAAABWZyjc6GkZ/500+fRMi7Ik4n740/ozF3yJf0/Xv59s9SDhlt7iJJEVhNV/3p5uRzFWBFYQXUbEafEVEGMK2eb8Fmp6/eVHP6p94luhnadtmdOza/5bqRBuAAAAANgyfeH2/T9MNz78+/QiuyaEG7Wr312Lv88mPnyw/hO39HQtiar4NM0VYQV6eub8LltHuPEndHW+fG3p26B4uxQAAAAAF8Rmwu2nf3eeqAUuSLilDx5wtifc4pO0JYJs4ZM5AAAAAIBN2Vy4DT8tuhvhFtuFIMMTNwAAAABcbQa/48Z/Zy2/DRpeVxGW2vuibIfCjX7vLfdv/tmPdYUbfscNAAAAAHvG8MMJ4u3Qd06jeJMizH4IoQi9xK7eKuWfCKUPFtAnUKtwi+NZe6KMXSDc8idGvz17hl3T4FOlAAAAALg4xsLtmKG3QfF33AAAAACwJ0C4DXiAb04AAAAAwJ4A4TYE31UKAAAAgP0Awg0AAAAA4ECAcAMAAAAAOBC6wu2FF14AAIC94K9/+0vEawMAgGMBwg0AcBBAuAEAwELh5rUBAMBFUoSb1wYAAMcChBsA4CCAcAMAgCMWbt9967XpzT/9JPH+99w+YHVKXm+e+O0+z02vfrjqmPV5+f2fTLfees5tOzy+N92kPfzhS9N33fYD5bWXplvq3oRwAwCAvRduVNBfm159LfwcD/IfTC+7/dYnCg0It60B4XbRQLgBAMAxcQDCLYs1Osh3UJwg3PYBCDcwBsINAAD2WLiJtzIVtcCngl/b5BM5KtC1LT+5Y+1ES7jp+bWoMP7NotKKEDtHfkqSWU1EyLGrP2np50zGVXNG12+99VKeO4w5+UHqM8fF/bK5TuOfE2ui1/HmCbehnq6WJzCFlcS2jlnlfCPb7ZzxvVDjVrkpeZypcZt9o546i3mFz2leua/stSX3Rxu1D3XOmnHVnJS+Ok7uF/cXwg0AAPb9iRt7ymaKWCnGumBkYn8malKRU2KgXHeLDusbX7PC5rUvFm66gKYCyPu30WP7ObAM+od832SFkucw5Y9ykG3QdSUkEhSPFQFpfPWd2579msfpOHWO0mte1HtEIcBiptfbst3LWY2r2hO+xPyxXKl8Rlt8rdx8O/3KtdkPQq6Lbo+vHdstXn6f91U57MaVctK+PypynSDcAACAOBjhpg9xI54EuhgTtmAQtmho0ZCo8zt2VhFuLCa3vYcXc6OYu3Rz5sBsVx9ZfO7cUiAUTIxibD9n8WeVM5nzDo6PfC9tZNvDiUvEzWybPa187eesYvpF1DrQvHOf5ffHUngs/bgG9wdD24FwAwCAvRVuueCF4mLIRc8tuDOeePALky0afr9aRJx2UegHhYn6enE5hcvgCYpGMffo54zw8p5s1xhYfO7cOxJuOj9eLjwcH7kg2Mh2pJ0zLy5OX+CMclZxYwhw+/Rz9WP5/dHE2cd8rnZc/bXmaDsQbgAAsOdP3OqB7hSVbnH1nih417yikeYShUdcG/kyKEwriQJFLJaqcHvXWgzmpkIp2lnBddfCFRI7Em7Kb++ai+MjFwQb2Q70cubuFUZf4MgceO0F068wrzetCR+3/P5wiX7IvjyWflyD+4Oh7UC4AQDAAQi3dHDTYa/FQCo0okAwdEFtFWOvaMRrvNApcRRtlzG5iFXbqTDNfsWxrP/A7z56rJpryIKczX4m2yXumidWeF0hQXNsV7hZoZDi4P3byL5pbVkONrLdz5kXFyf6Mu+bNC/fZ6N2YYfndobGhP5hD+o1X3p/uMScsTXOe7zM0fc75WT2x9wfFfKR+w3hBgAAey7c6sFNh78VA7UoFGRRi8XJbSsFVsGKRyw+c5svGlNbKoyi6GUxENvD9ZdNYdV+LxcKZqxbsHt0csb9Dtx8i16n9ioOmBiJ/fP4UoAFNW9GXPCxjsDx+1fbWoh04b4Fm2RbjN/EdidnI+Em92HI1QkfO2rnbQy1H9I+9u6d3v0xRowNe/xVIbIGcfGcmfvD3hsE2YZwAwCAff9wwqGghRsA6yDE7BViS3FBuAEAAITbdoBwA9sAwq0LhBsAAEC4bQcIN7ANINy6QLgBAMBC4QYAAJdNEW5eGwAAHAsQbgCAgwDCDQAABsINAAAAAADsDxBuAAAAAAAHAoQbAAAAAMCBAOEGAAAAAHAg7LFwuzedP340nS3+RoH95d4nj6dH92+5bUNOz6fH/zqbbnlt4OI5OZsePT6f7nltG/HM9PDzJ6av37Vtb5y8OX3x+9enu+q65u6dX0+fnbzotl1Zrt+YPuvl5sevT1+c3pje8NoapHz/evr4x377dnhx+uB013OsBu2fL37/5vTBdb99K6yxHqDPSvd9vF9onYnWffPK9DG1Y51WIN3PX9x5xbbdfmr69vOnplN9fQMg3C6AYxBut+4/mh4/fszYk7Wj/Am/NlgLYkfC7cGnT0zTp0+7bYuE20jAbJ1dCo/ltodFa1+Fm/IriSa2frnALinIxV/OOr7vXripdaUcKL9X/o/HJkJQiBhixdhHc5f4RDHPBV7Mm0ix53ZuN9tx13Td+747bofCbZP12mvyunnCLdA739cBwu0COBrhxvzUry+NKNyY0IrCa4P12IVwe/fJafrqyemB1xaIhXlw2FGflYveRiwXV6uz1DYVmEHR2tNCQSKpxkfxhvULFOEQ15OuLRVuSwv9ZUJiwfi5nlidWXt9kzjZKEeDudMad/aojj9C/Wnt6/W7d+i17+va9/26gm9T1l6vfSedWe21aL+jsg77L9xOU6GNT0u0EFBPU85PaxsJByrOJJq8dm88L+b6CZIZ2+XWdPavOpaQQoFiY+2f3GNtztMrEbcaa8TRqH03GKHmCBwZFxfllC96zX234qi3JnydhW0t3Nxr/fXQ+0Tba84dGa3HNm7odNh7TwtiUaf/PWf44Z+esBT4+CQkPrieiltq54WEj6uIQysWpdK2ZduZGJvzP1wdMy8UZJ9s8T41J9wnnc/UJounvpYO73nexv++bdHMOTl5PccZXt+5Md0t8XkFnl2LsahiKK7N87H4eP8smJLf7Xma15prLSm5n68tsS3WJFByKnzm8LFqPXjM3tyaVlyL5ia/0xiK2xNdvg807vWwF97MY8LrELPJ3dzXz7e+B8z8Zg8mxDh3/8r1MOsZxnAbc/vinNU2E69YDy8fA3rjm23Jp/59vxD6D/qW3jLdc+FGxa4UySSGqgAK7bzAqmJcinzpb4RF7K+LLG9jxbnX1yEWcuabfuJ27xMrGmYR4s09+61zkAViZ66LQuc3vubrE4TcOfNL9i9Ct+RYx1nWk+et4s5d+up8ElFU1vXsrofqqwVpd+7AcD3o9x86T9uWEA9K55BNB6hfnGIbK2Sybyl4pSik1/KgTNfcwyse0qygiAK1oe2ZRtESc+XXLM5ZGOZ86TwkfNtxLM+zKn6y3Yur9rPx0nxhXvIl2P04tNd1tYWCz+XGwPMwF80SU6PwqHgStm/1K7zurjXDs+31Vfbu3uHtjt9qfTlvBCFc11CvR7Ll+kosiaszN28T+dJ9zPzkV7hG89OY0IfitXumbTdeb8VV8NaD4dv2czivR4yH3QNefCwv87XIwHZ8zdZjVaIvrfF926P7fjlPT19/dW16eNtrW42DeqtUF0mJ7B/7KuFQC64VBhW/bbEgUoWdGI2t7Wlu8XSPC7emCJFCoZ2jPnFsFMscuQYtkmDh45SfGmc9eNxy/ZSYEnhtzJ6XM2dvcfh6mbUTfg/mDq+H67Hx/8LSgSeKWUQffKM2bsfatAd5a97U1wqT7diecQuAM071i4cwH+cewo2DXPWVcdKYJUXKs12v0dtiHwexQj/zvMgcSRuxTc/DfY0/y7x4QqBVkOTclGM5d3utK9JGJhbThbnPGL/dHPt4PsT9QGJD5WdRXJ25hZ+NvLrxz31pviDasnC16+XnOeXPu65o+ZRx14vGqHhFP5MPZy1bORvZznHJHCwl5ao9dmBb5crujaVs7+3Sw/odN/H0yRMaS4VbTwg44ilgCniLJcItignp+2LhpkWAmS/ZKHb9GLePEdUxRr5+0q9E8dvGLdYvxtgSWp4IY/aiH3I9jL3meiwRbp252etiV6/H6dm1zYRb7yBsFkCvOPJCYIuCPchbhUMWQ842bPfbnesqP7YAenj5Ibh9+pn1ifl24u4WowKbj/tLP5e+vHjw64FoU+8B6lP6q8LTpNWPX6efVT5NzAG5No18ch8LcS7WN/aRtsX6UbuOvRBtybE295k8T7G9KK7m3Drexn5txp+u8b1CPy+KW+evBZvHa3f3ac6RofQzPjnr3vJ7ZJsQ69n23UJ+OPnndG137vsVoQ8pfHv2jNu2Cof3xC0X8/izKMiyf1+4WaFQSW1SpHnXGhghpYp/bJdz13bHLy3ctAjxrhWcuXqQH1y8JLQw8THCTcUSbfP2wXrI9fMEUoHadIzsmpMfsXe666HWbu5f7A3mnq9lvPXY8IlbW4g0iuXc5hVXfjjJdnuQN4pRoC+ONrMdaRYdZ5wqFJsJN+Yr+cAL0KAQJlpx0XzOWOF7HUsxmPypYhiFR7m2yLfAgrzSXDx/i/LZLdZyvhhLuRb9kbGa+Vq2837mfe0+k8Sc5fbN4yoigKHnduI3+yqjfW/71967gsGecHPVzHXGtDu+9HLWs60Q+2TI4DxReLbnfDTWZxlH+cRNFkQtFJLoWCrcVPFWmLaeODI4fobXUrixuKJtKRTkkyYueJLtKiRGgrIjIraMXg+dMxFX9ru2j4RbHi+EYUW3CV/02uV8z3MN1kPGlfJp4mrNbXDWY5PfcRscvrEQNQ4Z3RYPpvm1Pei8g5wXOkEsSK3isaHt3NYqqmJcLvw8zt7YSqf45YObPjggC0GKq+VzpFmclgi38joIJ2VDrl1+zf0f7JOZTj+y+dnJKyFG1d5da6JTNONYZi++Zn2jP8x2bhfrp/vMJOEmbfXWJ/WfbQ/jCjTm9vazibV1jWw6e0TYjPP660TEe8DdZ4yBDTcGnSMNxSPmde6jRs6GtjVe7so92FqTTryCzrrY+34VjuZ33KhIVqQAke2P7p+F18uF29xH2KgCSLZxAbmAXPwjwQeyxW3HYl/aQ5E/C69rO48r+Et+CyGg8sJjdHLWFnXbRefS5KyI0Mx5WK/lT9wSIm9kg/WXbVaoVexa9tejiMwylnIs91Fz7kXrkf4Xts7jc/9wlcRDnApWhh86so0fVMvEVTlsiw1x6MbDz7O/qW2nGAj4uDCnKoRd4WZ8JuxcKW9eESiFo8Lnas7dKqJuIbQ2UlHi8ypbS4q0GO/YKHn19ltzrQO9uc24Vq4zIRcfODmU/te59HX6pGbx34vZrE0vroyduyVUU/7E9Whf2TRrnojzcN+9dWDIe7vO68VdfbD7NyLm4vdXYo7J+E59WyKqjOfxD2yLNu8MKP7754OOfV7vRbZ79/1CjuNTpQAcCYO/4+bjH4pXnSVFay8ZiKdlHN6aN8UqWJPjvO8Pn6P5O24AHA/0S6vb/Mva4OoR/8d/iKIVgCNn2+c7hNuK6LfrJPItNACWs93/kYGrw/y2l/MWGgBgzzmu7yoFAAAAAAAcCDcADoz/e/459ou0AAAALoP//Z/vuGf0roFwAwAAAAA4ECDcAAAAAAAOBAg3AAAAAIADAcINAAAAAOBAOGDhxv8qffubDdKf71jxmw+uKvQtAs2vYzok7DctrALtiYv6RgmwOvxP7rTWqXxTx7p74LI5Pbtm/q4TXdvGF1ADAK42V+CJGwm4SxBuhyiCINwiEG6HQW+ddibcnK/G2zrNb8qg7zLE3/IDAPS58sJtZ0C4XSIQbsfApazTzoXbQJzRH+tc+evPAADHxN4LN/3l5bZYN4Sb+FJz7yDmXx4e4F9oTgInfzl8aZ8LiPqy9Aqfo2M7or58/KLEVBZu97y4MjLfPK/kc4iRx2/8VnGrvKenn4VVxbbKWYDvhbbfhPZLxa3XVK8X5Y21ryomuntY2TZtlGPuH/OtCBtuv23b5luuR6LGpnIm1jq10VzVxorruSCnvnDj+8CfU+Zb35c0htso7XZ/JeQcbdtEf/8T3lukGvp6HLxlCgBosdfCLR2S9vCT0IHbKRqx6FkbseDMRTAduHORKEWltMfXykYpqvxapms7t3uFaufouGJuWO7C63PmV8z/HGMpbCUP6XUVCrloMWHBkbaWrm1B5zC9nufu+q3XQ+dfx5Fey/bO/hrQjzPY5vnS+6ysV7mm1ivGRe3Zhohbr61ru7y2a3fr/jmL2c8/zV2u6Rx3iXOPc9q/TxrrouKUe6H4XcbpuAIxbyxPnK7t/Lqbg4Vfa0ZvpW75K3IAAFeHPRZuuqC2GBRW9yCmMeoaHcrlEOY/R5w5TJ/CwHYgFjl37IiUk1TMGUttGZ+dwsURubM5EIWVbJs8F5Lfci3T3OP1DTT8bo7lfjvrz/3WxTci5ku+twVEDy/uHirHMac85zJus49YrBSX9NkZK4SakweGFCXJlhApZo1apLFL8in2l8HuR4LGyHzzfnbfGLHlnheJvu1sq3kPEPQ26bXp4W2vjYG3SwEAHfZXuMUD1B7MFv8An/EO4ngtix5OKTymCDlztArVyHYkF77cJovBDnF8lsVR+pUoubM54GP7hd9bI1tEmxi/9diO3876G7/1UxI9n1jTXmFWxHH9PUy+SL9Z/9Yey8i1s23SbqLkTIqMlD9hy9vHSritt29pLywb24uvt6eEz5HSz/q9XLiNbCd43o3vUZAtEG5LBR4A4CjZ8ydu/aKXGPTzDuLm4ZwxBdOZo1VUR7Y1uUAuK4Kp6MnCEegUd8FAAMWiw9tFLDYHorB2RUbyW8boXWuwid/OenC/PcHZE6FS8Ixw9g3D2lL9uzlV+V+hLUK2m3sorQ0fLwWOFUDLWT62H4OX25Ft2y7jCjTv31VjtjnEEzcAwDbY699xMwXZpV8c/YM4HcLmSUvBFExnjmjXm3dg25AO+PWK4IrouGLxrrmJ+VbFubbbHMjC6hUq2ZfP3RNHBpXraIvlbOx37ZvEEvMz2ub5H6yHylmizGn3g46bo3OQ4mI2zD6UUP+msIl+evuTSP6295zKQc6RznF7fJ+0BjqHlm58zn4k+rat37G/uFfb67/U70SaS/qP33EDAGzOXgs3IhWzynygxsIk23ihSoesbueHbim2lfmQNQWzVyRWtJ0Lg9+2Y0zOVBEqBTpzfp9elz42B7aw6tikfbmWau4BPNc0J9kywiIj/Q7wuEORJlvCbzVetJmceWKorLfX1tnDKl+Pgt8ix2YfSmz+Fb31Nm0BNpfe22f0ekvCjdD3Z43D3h+i3fNb5V3brnFZv2NfIdwCYo7VbIs2bTcQP1U6EGX4VCkAoMfeCzcAwLbxhFe61hWCYAvg77gBADYDwg2AoyM91RLCzbxlDHYGvjkBALABEG7gkvHfGptx3m4CW8B5y3Ebos28lSjw30o+RvBdpQCAdYFwAwAAAAA4ECDcAAAAAAAOBAg3AAAAAIADAcINAAAAAOAgeHb6fxkef5+gKjKiAAAAAElFTkSuQmCC)\n",
        "\n",
        "\n",
        "\n",
        "\n"
      ],
      "metadata": {
        "id": "fHEAgRAjWhBB"
      }
    },
    {
      "cell_type": "code",
      "source": [
        "import csv"
      ],
      "metadata": {
        "id": "H-oGThwqJKeR"
      },
      "execution_count": null,
      "outputs": []
    },
    {
      "cell_type": "code",
      "source": [
        "#conecta google colab ao drive\n",
        "from google.colab import drive\n",
        "drive.mount('/content/drive')"
      ],
      "metadata": {
        "colab": {
          "base_uri": "https://localhost:8080/"
        },
        "id": "pcLvXbvwOvZM",
        "outputId": "51830d2c-563e-44f7-ee33-5a6ca71aa31e"
      },
      "execution_count": null,
      "outputs": [
        {
          "output_type": "stream",
          "name": "stdout",
          "text": [
            "Drive already mounted at /content/drive; to attempt to forcibly remount, call drive.mount(\"/content/drive\", force_remount=True).\n"
          ]
        }
      ]
    },
    {
      "cell_type": "markdown",
      "source": [
        "##**Classe Pessoa / Classe Cliente / Classe Gerente**"
      ],
      "metadata": {
        "id": "6R_VuCYuI6Uh"
      }
    },
    {
      "cell_type": "markdown",
      "source": [
        "###**Pessoa**"
      ],
      "metadata": {
        "id": "7bkqSAWsJlXy"
      }
    },
    {
      "cell_type": "code",
      "execution_count": null,
      "metadata": {
        "id": "P6dNfU0KIZ_U"
      },
      "outputs": [],
      "source": [
        "class Pessoa:\n",
        "    def __init__(self, nome, cpf_cnpj, endereco, telefone, senha):\n",
        "        self.nome = nome\n",
        "        self.cpf_cnpj = cpf_cnpj\n",
        "        self.endereco = endereco\n",
        "        self.telefone = telefone\n",
        "        self.senha = senha"
      ]
    },
    {
      "cell_type": "markdown",
      "source": [
        "###**Cliente**"
      ],
      "metadata": {
        "id": "k5P5FBTMJrbn"
      }
    },
    {
      "cell_type": "code",
      "source": [
        "class Cliente(Pessoa):\n",
        "    def __init__(self, nome, cpf_cnpj, endereco, telefone, senha, saldo):\n",
        "        super().__init__(nome, cpf_cnpj, endereco, telefone, senha)\n",
        "        self.saldo = saldo\n",
        "        self.historico = []\n",
        "\n",
        "    def realizar_saque(self, valor):\n",
        "        if valor <= self.saldo:\n",
        "            self.saldo -= valor\n",
        "            self.historico.append(f\"Saque: R${valor}\")\n",
        "            print(f\"Saque de R${valor} realizado com sucesso.\")\n",
        "        else:\n",
        "            print(\"Saldo insuficiente.\")\n",
        "\n",
        "    def realizar_deposito(self, valor):\n",
        "        if valor > 0:\n",
        "            self.saldo += valor\n",
        "            self.historico.append(f\"Depósito: R${valor}\")\n",
        "            print(f\"Depósito de R${valor} realizado com sucesso.\")\n",
        "        else:\n",
        "            print(\"Valor de depósito inválido.\")\n",
        "\n",
        "    def realizar_pagamento_programado(self, valor):\n",
        "        if valor <= self.saldo:\n",
        "            self.saldo -= valor\n",
        "            self.historico.append(f\"Pagamento Programado: R${valor}\")\n",
        "            print(f\"Pagamento programado de R${valor} realizado com sucesso.\")\n",
        "        else:\n",
        "            print(\"Saldo insuficiente para realizar o pagamento programado.\")\n",
        "\n",
        "    def verificar_historico(self):\n",
        "        print(\"Histórico de ações:\")\n",
        "        for acao in self.historico:\n",
        "            print(acao)\n",
        "\n",
        "    def solicitar_credito(self, valor):\n",
        "        if valor > 0:\n",
        "            self.historico.append(f\"Solicitação de Crédito: R${valor}\")\n",
        "            print(f\"Solicitação de crédito de R${valor} realizada com sucesso. Será debitado em datas programadas.\")\n",
        "        else:\n",
        "            print(\"Valor de crédito inválido.\")"
      ],
      "metadata": {
        "id": "3RmS9X0tJcC0"
      },
      "execution_count": null,
      "outputs": []
    },
    {
      "cell_type": "markdown",
      "source": [
        "###**Gerente**"
      ],
      "metadata": {
        "id": "moic7dp5JwL6"
      }
    },
    {
      "cell_type": "code",
      "source": [
        "class Gerente(Pessoa):\n",
        "    def __init__(self, nome, cpf_cnpj, endereco, telefone, senha):\n",
        "        super().__init__(nome, cpf_cnpj, endereco, telefone, senha)\n",
        "\n",
        "    def cadastrar_cliente(self, clientes, cliente):\n",
        "        clientes.append(cliente)\n",
        "        print(\"Cliente cadastrado com sucesso.\")\n",
        "\n",
        "    def remover_cliente(self, clientes, cliente):\n",
        "        clientes.remove(cliente)\n",
        "        print(\"Cliente removido com sucesso.\")\n",
        "\n",
        "    def editar_cliente(self, cliente, novo_nome):\n",
        "        cliente.nome = novo_nome\n",
        "        print(\"Cliente editado com sucesso.\")\n",
        "\n",
        "    def visualizar_clientes(self, clientes):\n",
        "        print(\"Lista de clientes:\")\n",
        "        for cliente in clientes:\n",
        "            print(cliente.nome)"
      ],
      "metadata": {
        "id": "9rTQy54OJgz3"
      },
      "execution_count": null,
      "outputs": []
    },
    {
      "cell_type": "markdown",
      "source": [
        "##**Classe Banco Dados**"
      ],
      "metadata": {
        "id": "9sUQvxjYJ2rx"
      }
    },
    {
      "cell_type": "code",
      "source": [
        "class BancoDados:\n",
        "    def __init__(self, nome_arquivo):\n",
        "        self.nome_arquivo = nome_arquivo\n",
        "\n",
        "    def carregar_clientes(self):\n",
        "        clientes = []\n",
        "        with open(self.nome_arquivo, newline='') as file:\n",
        "            reader = csv.DictReader(file)\n",
        "            for row in reader:\n",
        "                clientes.append(row)\n",
        "        return clientes\n",
        "\n",
        "    def salvar_clientes(self, clientes):\n",
        "        with open(self.nome_arquivo, 'w', newline='') as file:\n",
        "            writer = csv.DictWriter(file, fieldnames=clientes[0].keys())\n",
        "            writer.writeheader()\n",
        "            writer.writerows(clientes)\n",
        "\n",
        "    def cadastrar_cliente(self, cliente):\n",
        "        clientes = self.carregar_clientes()\n",
        "        clientes.append(cliente)\n",
        "        self.salvar_clientes(clientes)\n",
        "\n",
        "    def cliente_existe(self, cpf_cnpj):\n",
        "        clientes = self.carregar_clientes()\n",
        "        for cliente in clientes:\n",
        "            if cliente['CPF/CNPJ'] == cpf_cnpj:\n",
        "                return True\n",
        "        return False\n",
        "\n",
        "def exibir_menu():\n",
        "    print(\"----- Menu de Opções -----\")\n",
        "    print(\"0 - Sair\")\n",
        "    print(\"1 - Realizar Saque\")\n",
        "    print(\"2 - Realizar Depósito\")\n",
        "    print(\"3 - Realizar Pagamento Programado\")\n",
        "    print(\"4 - Verificar Histórico\")\n",
        "    print(\"5 - Solicitar Crédito\")\n",
        "\n",
        "def cadastrar_novo_cliente():\n",
        "    nome = input(\"Nome: \")\n",
        "    cpf_cnpj = input(\"CPF/CNPJ: \")\n",
        "    endereco = input(\"Endereço: \")\n",
        "    telefone = input(\"Telefone: \")\n",
        "    senha = int(input(\"Senha: \"))\n",
        "    saldo = float(input(\"Saldo inicial: \"))\n",
        "\n",
        "    return {'Nome': nome, 'CPF/CNPJ': cpf_cnpj, 'Endereço': endereco,\n",
        "            'Telefone': telefone, 'Senha': senha, 'Saldo': saldo}"
      ],
      "metadata": {
        "id": "PNy1QWBKLgPS"
      },
      "execution_count": null,
      "outputs": []
    },
    {
      "cell_type": "markdown",
      "source": [
        "##**Classe Caixa Eletronico**"
      ],
      "metadata": {
        "id": "KNFm2XITLky-"
      }
    },
    {
      "cell_type": "code",
      "source": [
        "class CaixaEletronico:\n",
        "    def __init__(self, cliente):\n",
        "        self.cliente = cliente\n",
        "\n",
        "    def realizar_saque(self, valor):\n",
        "        if self.cliente.saldo >= valor:\n",
        "            self.cliente.saldo -= valor\n",
        "            self.cliente.historico.append(f\"Saque: -{valor}\")\n",
        "            print(\"Saque realizado com sucesso.\")\n",
        "        else:\n",
        "            print(\"Saldo insuficiente.\")\n",
        "\n",
        "    def realizar_deposito(self, valor):\n",
        "        self.cliente.saldo += valor\n",
        "        self.cliente.historico.append(f\"Depósito: +{valor}\")\n",
        "        print(\"Depósito realizado com sucesso.\")\n",
        "\n",
        "    def realizar_pagamento_programado(self, valor):\n",
        "        if self.cliente.saldo >= valor:\n",
        "            self.cliente.saldo -= valor\n",
        "            self.cliente.historico.append(f\"Pagamento Programado: -{valor}\")\n",
        "            print(\"Pagamento programado realizado com sucesso.\")\n",
        "        else:\n",
        "            print(\"Saldo insuficiente.\")\n",
        "\n",
        "    def verificar_historico(self):\n",
        "        print(\"Histórico de transações:\")\n",
        "        for transacao in self.cliente.historico:\n",
        "            print(transacao)\n",
        "\n",
        "    def solicitar_credito(self, valor):\n",
        "        if valor > 0:\n",
        "            self.cliente.saldo += valor\n",
        "            self.cliente.historico.append(f\"Solicitação de Crédito: +{valor}\")\n",
        "            print(\"Solicitação de crédito realizada com sucesso.\")\n",
        "        else:\n",
        "            print(\"Valor inválido para solicitação de crédito.\")\n",
        "\n",
        "def main():\n",
        "    #coloque o caminho do arquivo aqui\n",
        "    banco_dados = BancoDados('clientes.csv')\n",
        "    clientes = banco_dados.carregar_clientes()\n",
        "\n",
        "    while True:\n",
        "        print(\"Sistema Bancário\")\n",
        "        print(\"1 - Realizar Login\")\n",
        "        print(\"2 - Cadastrar Novo Cliente\")\n",
        "        print(\"0 - Sair\")\n",
        "\n",
        "        opcao = input(\"Opção: \")\n",
        "\n",
        "        if opcao == '1':\n",
        "            cpf_cnpj = input(\"CPF/CNPJ: \")\n",
        "            senha = int(input(\"Senha: \"))\n",
        "\n",
        "            cliente_encontrado = None\n",
        "            for cliente in clientes:\n",
        "                if cliente['CPF/CNPJ'] == cpf_cnpj and int(cliente['Senha']) == senha:\n",
        "                    cliente_encontrado = cliente\n",
        "                    break\n",
        "\n",
        "            if cliente_encontrado:\n",
        "                cliente = Cliente(cliente_encontrado['Nome'], cliente_encontrado['CPF/CNPJ'],\n",
        "                                  cliente_encontrado['Endereço'], cliente_encontrado['Telefone'],\n",
        "                                  int(cliente_encontrado['Senha']), float(cliente_encontrado['Saldo']))\n",
        "                caixa_eletronico = CaixaEletronico(cliente)\n",
        "\n",
        "                while True:\n",
        "                    exibir_menu()\n",
        "                    opcao = input(\"Opção: \")\n",
        "\n",
        "                    if opcao == '0':\n",
        "                        break\n",
        "                    elif opcao == '1':\n",
        "                        valor = float(input(\"Digite o valor do saque: \"))\n",
        "                        caixa_eletronico.realizar_saque(valor)\n",
        "                    elif opcao == '2':\n",
        "                        valor = float(input(\"Digite o valor do depósito: \"))\n",
        "                        caixa_eletronico.realizar_deposito(valor)\n",
        "                    elif opcao == '3':\n",
        "                        valor = float(input(\"Digite o valor do pagamento programado: \"))\n",
        "                        caixa_eletronico.realizar_pagamento_programado(valor)\n",
        "                    elif opcao == '4':\n",
        "                        caixa_eletronico.verificar_historico()\n",
        "                    elif opcao == '5':\n",
        "                        valor = float(input(\"Digite o valor do crédito: \"))\n",
        "                        caixa_eletronico.solicitar_credito(valor)\n",
        "                    else:\n",
        "                        print(\"Opção inválida.\")\n",
        "\n",
        "            else:\n",
        "                print(\"CPF/CNPJ ou senha inválidos.\")\n",
        "\n",
        "        elif opcao == '2':\n",
        "            novo_cliente = cadastrar_novo_cliente()\n",
        "            if banco_dados.cliente_existe(novo_cliente['CPF/CNPJ']):\n",
        "                print(\"Cliente já cadastrado.\")\n",
        "            else:\n",
        "                banco_dados.cadastrar_cliente(novo_cliente)\n",
        "                clientes = banco_dados.carregar_clientes()\n",
        "                cliente = Cliente(novo_cliente['Nome'], novo_cliente['CPF/CNPJ'], novo_cliente['Endereço'],\n",
        "                                  novo_cliente['Telefone'], int(novo_cliente['Senha']), float(novo_cliente['Saldo']))\n",
        "                caixa_eletronico = CaixaEletronico(cliente)\n",
        "\n",
        "                while True:\n",
        "                    exibir_menu()\n",
        "                    opcao = input(\"Opção: \")\n",
        "\n",
        "                    if opcao == '0':\n",
        "                        break\n",
        "                    elif opcao == '1':\n",
        "                        valor = float(input(\"Digite o valor do saque: \"))\n",
        "                        caixa_eletronico.realizar_saque(valor)\n",
        "                    elif opcao == '2':\n",
        "                        valor = float(input(\"Digite o valor do depósito: \"))\n",
        "                        caixa_eletronico.realizar_deposito(valor)\n",
        "                    elif opcao == '3':\n",
        "                        valor = float(input(\"Digite o valor do pagamento programado: \"))\n",
        "                        caixa_eletronico.realizar_pagamento_programado(valor)\n",
        "                    elif opcao == '4':\n",
        "                        caixa_eletronico.verificar_historico()\n",
        "                    elif opcao == '5':\n",
        "                        valor = float(input(\"Digite o valor do crédito: \"))\n",
        "                        caixa_eletronico.solicitar_credito(valor)\n",
        "                    else:\n",
        "                        print(\"Opção inválida.\")\n",
        "\n",
        "        elif opcao == '0':\n",
        "            break\n",
        "        else:\n",
        "            print(\"Opção inválida.\")\n",
        "\n",
        "if __name__ == '__main__':\n",
        "    main()"
      ],
      "metadata": {
        "colab": {
          "base_uri": "https://localhost:8080/"
        },
        "id": "T4eVznJrLq5r",
        "outputId": "b0e92a59-e582-4dc8-cee3-1f707db9c10b"
      },
      "execution_count": null,
      "outputs": [
        {
          "name": "stdout",
          "output_type": "stream",
          "text": [
            "Sistema Bancário\n",
            "1 - Realizar Login\n",
            "2 - Cadastrar Novo Cliente\n",
            "0 - Sair\n",
            "Opção: 2\n",
            "Nome: marcio\n",
            "CPF/CNPJ: 09882536698\n",
            "Endereço: ceilandia\n",
            "Telefone: 61999560772\n",
            "Senha: 456852\n",
            "Saldo inicial: 782\n",
            "----- Menu de Opções -----\n",
            "0 - Sair\n",
            "1 - Realizar Saque\n",
            "2 - Realizar Depósito\n",
            "3 - Realizar Pagamento Programado\n",
            "4 - Verificar Histórico\n",
            "5 - Solicitar Crédito\n",
            "Opção: 0\n",
            "Sistema Bancário\n",
            "1 - Realizar Login\n",
            "2 - Cadastrar Novo Cliente\n",
            "0 - Sair\n",
            "Opção: 0\n"
          ]
        }
      ]
    }
  ]
}